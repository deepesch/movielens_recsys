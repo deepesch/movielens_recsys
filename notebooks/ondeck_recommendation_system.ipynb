{
 "cells": [
  {
   "cell_type": "markdown",
   "metadata": {},
   "source": [
    "# Movielens Recommendation System "
   ]
  },
  {
   "cell_type": "code",
   "execution_count": 4,
   "metadata": {},
   "outputs": [],
   "source": [
    "# Import Data\n",
    "import tensorflow as tf\n",
    "from zipfile import ZipFile\n",
    "import pandas as pd\n",
    "import numpy as np\n",
    "from sklearn.model_selection import train_test_split\n",
    "from tensorflow.keras.layers import Embedding\n",
    "from tensorflow.keras.utils import get_file\n",
    "from tensorflow.keras import callbacks\n",
    "import matplotlib.pyplot as plt"
   ]
  },
  {
   "cell_type": "code",
   "execution_count": 2,
   "metadata": {},
   "outputs": [],
   "source": [
    "# Loading the Data\n",
    "URL = \"http://files.grouplens.org/datasets/movielens/ml-20m.zip\"\n",
    "movielens_path = get_file(\"movielens20m.zip\", URL, extract=True)"
   ]
  },
  {
   "cell_type": "code",
   "execution_count": 3,
   "metadata": {},
   "outputs": [],
   "source": [
    "# Reading and Processing the Data\n",
    "with ZipFile(movielens_path) as z:\n",
    "    with z.open(\"ml-20m/ratings.csv\") as f:\n",
    "        df = pd.read_csv(f)\n",
    "# Movie and user id's deduplication               \n",
    "user_ids = df[\"userId\"].unique().tolist()\n",
    "movie_ids = df[\"movieId\"].unique().tolist()"
   ]
  },
  {
   "cell_type": "code",
   "execution_count": 21,
   "metadata": {},
   "outputs": [],
   "source": [
    "# New mapping application to join the index ID to the encoded ID  \n",
    "user2user_encoded = {x: i for i, x in enumerate(user_ids)}\n",
    "user_encoded2user = {i: x for i, x in enumerate(user_ids)}\n",
    "movie2movie_encoded = {x: i for i, x in enumerate(movie_ids)}\n",
    "movie_encoded2movie = {i: x for i, x in enumerate(movie_ids)}\n",
    "\n",
    "\n",
    "df[\"user\"] = df[\"userId\"].map(user2user_encoded)\n",
    "num_users = len(user_encoded2user)\n",
    "df[\"movie\"] = df[\"movieId\"].map(movie2movie_encoded)\n",
    "num_movies = len(movie_encoded2movie)\n",
    "\n",
    "# Normalizing the ratings\n",
    "min_rating, max_rating = df[\"rating\"].min(), df[\"rating\"].max()\n",
    "\n",
    "df[\"rating\"] = df[\"rating\"].apply(lambda x:(x-min_rating)/(max_rating-min_rating))"
   ]
  },
  {
   "cell_type": "code",
   "execution_count": 22,
   "metadata": {},
   "outputs": [],
   "source": [
    "# Train/Test Split\n",
    "X = df[[\"user\", \"movie\"]].values\n",
    "y = df[\"rating\"].values\n",
    "(x_train, x_val, y_train, y_val) = train_test_split(X, y,test_size=0.1,random_state=42)"
   ]
  },
  {
   "cell_type": "code",
   "execution_count": null,
   "metadata": {},
   "outputs": [],
   "source": [
    "# Buiding model using collaborative filtering architecture\n",
    "\n",
    "class RecommenderNet(tf.keras.Model):\n",
    "  # __init function is to initialize the values of instance members for the new object\n",
    "    def __init__(self, num_users, num_movies, embedding_size,**kwargs):\n",
    "        super(RecommenderNet, self).__init__(**kwargs)\n",
    "        # Variable for embedding size\n",
    "        self.embedding_size = embedding_size\n",
    "        # Variables for user count, and related weights and biases\n",
    "        self.num_users = num_users\n",
    "        self.user_embedding = Embedding(num_users,embedding_size,embeddings_initializer=\"he_normal\",embeddings_regularizer=tf.keras.regularizers.l2(1e-6))\n",
    "        self.user_bias = Embedding(num_users, 1)\n",
    "        # Variables for movie count, and related weights and biases\n",
    "        self.num_movies = num_movies\n",
    "        self.movie_embedding = Embedding(num_movies,embedding_size,embeddings_initializer=\"he_normal\",embeddings_regularizer=tf.keras.regularizers.l2(1e-6))\n",
    "        self.movie_bias = Embedding(num_movies, 1)\n",
    "    def call(self, inputs):\n",
    "        # call function is for the dot products of user and movie vectors\n",
    "        # It also accepts the inputs, feeds them into the layers,and feed into the final sigmoid layer\n",
    "        # User vector and bias values with input values\n",
    "        user_vector = self.user_embedding(inputs[:, 0])\n",
    "        user_bias = self.user_bias(inputs[:, 0])\n",
    "        # Movie vector and bias values with input values\n",
    "        movie_vector = self.movie_embedding(inputs[:, 1])\n",
    "        movie_bias = self.movie_bias(inputs[:, 1])\n",
    "        # tf.tensordot calculcates the dot product\n",
    "        dot_user_movie = tf.tensordot(user_vector, movie_vector, 2)\n",
    "        # Add all the components (including bias)\n",
    "        x = dot_user_movie + user_bias + movie_bias\n",
    "        # The sigmoid activation forces the rating to between 0 and 1\n",
    "        return tf.nn.sigmoid(x)"
   ]
  },
  {
   "cell_type": "markdown",
   "metadata": {},
   "source": [
    "### Hyperparameter tuning for faster and better results\n",
    "     1) optimizer: SGD, Adam, NAdam and Adamax\n",
    "     2) learning rate: 0.001, 0.01\n",
    "     3) batch size: 1024, 4096"
   ]
  },
  {
   "cell_type": "markdown",
   "metadata": {},
   "source": [
    "### Metrics Selection:\n",
    "\n",
    "MAE: It is the difference between the actual value(rating) and the predicted value. One large characteristic of MAE does not give any bias to ourliers. If there are outliers, it will weigh those equally to the other predictions. Since we aren't looking for any outliers MAE is preffered here. \n",
    "\n",
    "Hit Rate is a better alternative to MAE or RMSE. But it good to remember that however good the alternative may be, we are not exactly measuring what we want. "
   ]
  },
  {
   "cell_type": "code",
   "execution_count": 86,
   "metadata": {},
   "outputs": [
    {
     "name": "stdout",
     "output_type": "stream",
     "text": [
      "Epoch 1/25\n",
      "17579/17579 - 1554s - loss: 0.0512 - mae: 0.1798 - val_loss: 0.0481 - val_mae: 0.1729\n",
      "Epoch 2/25\n",
      "17579/17579 - 1541s - loss: 0.0469 - mae: 0.1704 - val_loss: 0.0461 - val_mae: 0.1688\n",
      "Epoch 3/25\n",
      "17579/17579 - 1541s - loss: 0.0454 - mae: 0.1670 - val_loss: 0.0450 - val_mae: 0.1662\n",
      "Epoch 4/25\n",
      "17579/17579 - 1540s - loss: 0.0445 - mae: 0.1649 - val_loss: 0.0442 - val_mae: 0.1644\n",
      "Epoch 5/25\n",
      "17579/17579 - 1540s - loss: 0.0438 - mae: 0.1633 - val_loss: 0.0436 - val_mae: 0.1630\n",
      "Epoch 6/25\n",
      "17579/17579 - 1541s - loss: 0.0433 - mae: 0.1621 - val_loss: 0.0431 - val_mae: 0.1619\n",
      "Epoch 7/25\n",
      "17579/17579 - 1540s - loss: 0.0428 - mae: 0.1611 - val_loss: 0.0427 - val_mae: 0.1610\n",
      "Epoch 8/25\n",
      "17579/17579 - 1540s - loss: 0.0424 - mae: 0.1602 - val_loss: 0.0424 - val_mae: 0.1602\n",
      "Epoch 9/25\n",
      "17579/17579 - 1544s - loss: 0.0421 - mae: 0.1595 - val_loss: 0.0421 - val_mae: 0.1596\n",
      "Epoch 10/25\n",
      "17579/17579 - 1540s - loss: 0.0418 - mae: 0.1589 - val_loss: 0.0418 - val_mae: 0.1590\n",
      "Epoch 11/25\n",
      "17579/17579 - 1539s - loss: 0.0416 - mae: 0.1583 - val_loss: 0.0416 - val_mae: 0.1585\n",
      "Epoch 12/25\n",
      "17579/17579 - 1538s - loss: 0.0413 - mae: 0.1578 - val_loss: 0.0413 - val_mae: 0.1580\n",
      "Epoch 13/25\n",
      "17579/17579 - 1541s - loss: 0.0411 - mae: 0.1573 - val_loss: 0.0411 - val_mae: 0.1576\n",
      "Epoch 14/25\n",
      "17579/17579 - 1539s - loss: 0.0409 - mae: 0.1569 - val_loss: 0.0410 - val_mae: 0.1571\n",
      "Epoch 15/25\n",
      "17579/17579 - 1539s - loss: 0.0407 - mae: 0.1565 - val_loss: 0.0408 - val_mae: 0.1568\n",
      "Epoch 16/25\n",
      "17579/17579 - 1538s - loss: 0.0406 - mae: 0.1562 - val_loss: 0.0406 - val_mae: 0.1564\n",
      "Epoch 17/25\n",
      "17579/17579 - 1540s - loss: 0.0404 - mae: 0.1558 - val_loss: 0.0405 - val_mae: 0.1561\n",
      "Epoch 18/25\n",
      "17579/17579 - 1539s - loss: 0.0403 - mae: 0.1555 - val_loss: 0.0404 - val_mae: 0.1558\n",
      "Epoch 19/25\n",
      "17579/17579 - 1538s - loss: 0.0402 - mae: 0.1552 - val_loss: 0.0402 - val_mae: 0.1555\n",
      "Epoch 20/25\n",
      "17579/17579 - 1543s - loss: 0.0400 - mae: 0.1549 - val_loss: 0.0401 - val_mae: 0.1552\n",
      "Epoch 21/25\n",
      "17579/17579 - 1540s - loss: 0.0399 - mae: 0.1547 - val_loss: 0.0400 - val_mae: 0.1550\n",
      "Epoch 22/25\n",
      "17579/17579 - 1554s - loss: 0.0398 - mae: 0.1544 - val_loss: 0.0399 - val_mae: 0.1547\n",
      "Epoch 23/25\n",
      "17579/17579 - 1543s - loss: 0.0397 - mae: 0.1542 - val_loss: 0.0398 - val_mae: 0.1545\n",
      "Epoch 24/25\n",
      "17579/17579 - 1665s - loss: 0.0396 - mae: 0.1540 - val_loss: 0.0397 - val_mae: 0.1543\n",
      "Epoch 25/25\n",
      "17579/17579 - 1636s - loss: 0.0395 - mae: 0.1538 - val_loss: 0.0396 - val_mae: 0.1541\n"
     ]
    },
    {
     "data": {
      "text/plain": [
       "[<matplotlib.lines.Line2D at 0x1c119f5e8b0>]"
      ]
     },
     "execution_count": 86,
     "metadata": {},
     "output_type": "execute_result"
    },
    {
     "data": {
      "image/png": "[encoded data removed]",
      "text/plain": [
       "<Figure size 432x288 with 1 Axes>"
      ]
     },
     "metadata": {
      "needs_background": "light"
     },
     "output_type": "display_data"
    }
   ],
   "source": [
    "# SGD optimizer (Takes ~4-6 Hours)\n",
    "model = RecommenderNet(num_users, num_movies, embedding_size=50)\n",
    "\n",
    "# Compile and Train the Model\n",
    "model.compile(loss='mse',metrics=['mae'],optimizer=tf.keras.optimizers.SGD(learning_rate=0.08, momentum=0.9))\n",
    "\n",
    "\n",
    "history = model.fit(x=x_train,y=y_train,batch_size=1024,epochs=25,verbose=2,validation_data=(x_val, y_val))\n",
    "plt.plot(history.history['loss'], label='loss')\n",
    "plt.plot(history.history['val_loss'], label='val_loss')"
   ]
  },
  {
   "cell_type": "code",
   "execution_count": 90,
   "metadata": {},
   "outputs": [
    {
     "name": "stdout",
     "output_type": "stream",
     "text": [
      "Epoch 1/5\n",
      "4395/4395 [==============================] - 1186s 269ms/step - loss: 0.6290 - mae: 0.1844 - val_loss: 0.6181 - val_mae: 0.1742\n",
      "Epoch 2/5\n",
      "4395/4395 [==============================] - 1133s 258ms/step - loss: 0.6136 - mae: 0.1691 - val_loss: 0.6129 - val_mae: 0.1699\n",
      "Epoch 3/5\n",
      "4395/4395 [==============================] - 1142s 260ms/step - loss: 0.6084 - mae: 0.1625 - val_loss: 0.6080 - val_mae: 0.1635\n",
      "Epoch 4/5\n",
      "4395/4395 [==============================] - 1158s 263ms/step - loss: 0.6060 - mae: 0.1594 - val_loss: 0.6071 - val_mae: 0.1626\n",
      "Epoch 5/5\n",
      "4395/4395 [==============================] - 1102s 251ms/step - loss: 0.6050 - mae: 0.1578 - val_loss: 0.6063 - val_mae: 0.1611\n"
     ]
    },
    {
     "data": {
      "text/plain": [
       "[<matplotlib.lines.Line2D at 0x1c120ed8070>]"
      ]
     },
     "execution_count": 90,
     "metadata": {},
     "output_type": "execute_result"
    },
    {
     "data": {
      "image/png": "[encoded data removed]",
      "text/plain": [
       "<Figure size 432x288 with 1 Axes>"
      ]
     },
     "metadata": {
      "needs_background": "light"
     },
     "output_type": "display_data"
    }
   ],
   "source": [
    "# Adam Optimizer Takes ~1.1 Hours\n",
    "model = RecommenderNet(num_users, num_movies, embedding_size=125)\n",
    "lr_schedule = tf.keras.optimizers.schedules.ExponentialDecay(\n",
    "    initial_learning_rate=1e-2,\n",
    "    decay_steps=10000,\n",
    "    decay_rate=0.9)\n",
    "\n",
    "model.compile(\n",
    "    metrics=['mae'],\n",
    "    loss=tf.keras.losses.BinaryCrossentropy(), \n",
    "    optimizer = tf.keras.optimizers.Adam(learning_rate=0.0001),\n",
    "    \n",
    ")\n",
    "\n",
    "history = model.fit(\n",
    "    x=x_train,\n",
    "    y=y_train,\n",
    "    batch_size=4096,\n",
    "    epochs=5,\n",
    "    verbose=1,\n",
    "    validation_data=(x_val, y_val),\n",
    ")\n",
    "\n",
    "plt.plot(history.history['loss'], label='loss')\n",
    "plt.plot(history.history['val_loss'], label='val_loss')"
   ]
  },
  {
   "cell_type": "markdown",
   "metadata": {},
   "source": [
    "The loss curve looks sensible and model has converged. "
   ]
  },
  {
   "cell_type": "code",
   "execution_count": 115,
   "metadata": {},
   "outputs": [
    {
     "name": "stdout",
     "output_type": "stream",
     "text": [
      "INFO:tensorflow:Assets written to: ../models/assets\n"
     ]
    }
   ],
   "source": [
    "model.save(\"../models/\",save_format=\"tf\")"
   ]
  },
  {
   "cell_type": "code",
   "execution_count": 116,
   "metadata": {},
   "outputs": [
    {
     "name": "stdout",
     "output_type": "stream",
     "text": [
      "Recommend movies for user:  56622\n"
     ]
    }
   ],
   "source": [
    "user_id = df.userId.sample(1).iloc[0]\n",
    "print(\"Recommend movies for user: \", user_id)"
   ]
  },
  {
   "cell_type": "code",
   "execution_count": 117,
   "metadata": {},
   "outputs": [],
   "source": [
    "movies_watched = df[df.userId == user_id]\n",
    "not_watched = df[~df['movieId'].isin(movies_watched.movieId.values)]['movieId'].unique()\n",
    "not_watched = [[movie2movie_encoded.get(x)] for x in not_watched]"
   ]
  },
  {
   "cell_type": "code",
   "execution_count": 118,
   "metadata": {},
   "outputs": [
    {
     "name": "stdout",
     "output_type": "stream",
     "text": [
      "Movie:  26693\n"
     ]
    }
   ],
   "source": [
    "# To avoid showing previously seen movies\n",
    "print('Movie: ',len(not_watched))\n",
    "\n",
    "# generate the predicted movie ratings\n",
    "user_encoder = user2user_encoded.get(user_id)\n",
    "user_movie_array = np.hstack(([[user_encoder]] * len(not_watched), not_watched ))\n",
    "ratings = model.predict(user_movie_array).flatten()"
   ]
  },
  {
   "cell_type": "code",
   "execution_count": 109,
   "metadata": {},
   "outputs": [],
   "source": [
    "# Top 5 recommendations sorted by rating order\n",
    "top5_indices = ratings.argsort()[-5:][::-1]\n",
    "recommended_movie_ids = [movie_encoded2movie.get(not_watched[x][0]) for x in top5_indices]"
   ]
  },
  {
   "cell_type": "markdown",
   "metadata": {},
   "source": [
    "#### Top recommendations"
   ]
  },
  {
   "cell_type": "code",
   "execution_count": 119,
   "metadata": {},
   "outputs": [
    {
     "name": "stdout",
     "output_type": "stream",
     "text": [
      "Top 5 movie recommendations\n",
      "                                 title\n",
      "49          Usual Suspects, The (1995)\n",
      "315   Shawshank Redemption, The (1994)\n",
      "523            Schindler's List (1993)\n",
      "843              Godfather, The (1972)\n",
      "1195    Godfather: Part II, The (1974)\n"
     ]
    }
   ],
   "source": [
    "# Show top results\n",
    "with ZipFile(movielens_path) as z:\n",
    "    with z.open(\"ml-20m/movies.csv\") as f:\n",
    "        movie_df = pd.read_csv(f)\n",
    "\n",
    "recommended_movies = movie_df[movie_df[\"movieId\"].\n",
    "isin(recommended_movie_ids)]\n",
    "print(\"Top 5 movie recommendations\")\n",
    "print(recommended_movies[['title']])"
   ]
  },
  {
   "cell_type": "markdown",
   "metadata": {},
   "source": [
    "#### Potential Imporvements"
   ]
  },
  {
   "cell_type": "markdown",
   "metadata": {},
   "source": [
    "1) Improved Ranking using algorithms like Scann index\n",
    "\n",
    "2) Toggles to filter movies based of age guidance\n",
    "\n",
    "3) Connect with data from external sources such as wikipedia and imdb to imporve the encoded strings to improve search results\n",
    "\n",
    "4) Use BERT to create embeddings for sentenses, this would allow us to use and recommend non-English titles."
   ]
  },
  {
   "cell_type": "markdown",
   "metadata": {},
   "source": [
    "#### Approach for 20k and 200k"
   ]
  },
  {
   "cell_type": "markdown",
   "metadata": {},
   "source": [
    "20k: Since Collaborative Filtering suffers from Cold-start and data sparsity problem at this sample size. I'd test a content based approach. If that doesn't perform well I'd simply build a a filtering recommandation that shows the top movies from the genre that the user has not seen. I beallive for 200k collaborative filter approach would be suitable,  In order to deal with sparcity, I will apply dimensionality reduction techniques to capture more signals from the big dataset. Model-Based Collaborative Filtering would be better suited for 200k samples."
   ]
  }
 ],
 "metadata": {
  "kernelspec": {
   "display_name": "Python 3",
   "language": "python",
   "name": "python3"
  },
  "language_info": {
   "codemirror_mode": {
    "name": "ipython",
    "version": 3
   },
   "file_extension": ".py",
   "mimetype": "text/x-python",
   "name": "python",
   "nbconvert_exporter": "python",
   "pygments_lexer": "ipython3",
   "version": "3.8.5"
  }
 },
 "nbformat": 4,
 "nbformat_minor": 4
}
